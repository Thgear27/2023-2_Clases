{
 "cells": [
  {
   "cell_type": "markdown",
   "id": "13d1636f",
   "metadata": {},
   "source": [
    "# Semana 4"
   ]
  },
  {
   "cell_type": "markdown",
   "id": "23c47cf0",
   "metadata": {},
   "source": [
    "Temas:\n",
    "- Colecciones de datos\n",
    "- Estructuras decisivas y estrucutras repetitivas\n",
    "- Clases y objetos\n",
    "- Funciones"
   ]
  },
  {
   "cell_type": "code",
   "execution_count": 1,
   "id": "fbab25ac",
   "metadata": {},
   "outputs": [
    {
     "data": {
      "text/plain": [
       "['daniel', 'garcia']"
      ]
     },
     "execution_count": 1,
     "metadata": {},
     "output_type": "execute_result"
    }
   ],
   "source": [
    "aula = [\"daniel\", \"garcia\"]\n",
    "aula"
   ]
  },
  {
   "cell_type": "code",
   "execution_count": 2,
   "id": "934769b8",
   "metadata": {},
   "outputs": [
    {
     "name": "stdout",
     "output_type": "stream",
     "text": [
      "daniel\n"
     ]
    }
   ],
   "source": [
    "print(aula[0])"
   ]
  },
  {
   "cell_type": "code",
   "execution_count": 3,
   "id": "f1a8ed65",
   "metadata": {},
   "outputs": [
    {
     "name": "stdout",
     "output_type": "stream",
     "text": [
      "garcia\n"
     ]
    }
   ],
   "source": [
    "print(aula[1])"
   ]
  },
  {
   "cell_type": "code",
   "execution_count": 4,
   "id": "54619b36",
   "metadata": {},
   "outputs": [
    {
     "data": {
      "text/plain": [
       "'Lopez'"
      ]
     },
     "execution_count": 4,
     "metadata": {},
     "output_type": "execute_result"
    }
   ],
   "source": [
    "aula[1] = \"Lopez\"\n",
    "aula[1]"
   ]
  }
 ],
 "metadata": {
  "kernelspec": {
   "display_name": "Python 3 (ipykernel)",
   "language": "python",
   "name": "python3"
  },
  "language_info": {
   "codemirror_mode": {
    "name": "ipython",
    "version": 3
   },
   "file_extension": ".py",
   "mimetype": "text/x-python",
   "name": "python",
   "nbconvert_exporter": "python",
   "pygments_lexer": "ipython3",
   "version": "3.9.12"
  }
 },
 "nbformat": 4,
 "nbformat_minor": 5
}
