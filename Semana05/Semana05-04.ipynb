{
 "cells": [
  {
   "cell_type": "markdown",
   "id": "d1000c05",
   "metadata": {},
   "source": [
    "# Semana 5\n",
    "- Clases y objetos"
   ]
  },
  {
   "cell_type": "code",
   "execution_count": 8,
   "id": "b9ce6c26",
   "metadata": {},
   "outputs": [
    {
     "name": "stdout",
     "output_type": "stream",
     "text": [
      "persona1\n",
      "Nombre: Fernando\n",
      "Apellidos: Vegas Villar\n",
      "dni: 12345678\n",
      "talla: 1.63\n"
     ]
    }
   ],
   "source": [
    "class Persona:\n",
    "    nombre = \"\"\n",
    "    apellidos = \"\"\n",
    "    dni = \"\"\n",
    "    talla = 0\n",
    "\n",
    "persona1 = Persona()\n",
    "\n",
    "persona1.nombre = \"Fernando\"\n",
    "persona1.apellidos = \"Vegas Villar\"\n",
    "persona1.dni = \"12345678\"\n",
    "persona1.talla = 1.63\n",
    "\n",
    "print(\"persona1\")\n",
    "print(f\"Nombre: {persona1.nombre}\")\n",
    "print(f\"Apellidos: {persona1.apellidos}\")\n",
    "print(f\"dni: {persona1.dni}\")\n",
    "print(f\"talla: {persona1.talla}\")"
   ]
  },
  {
   "cell_type": "code",
   "execution_count": 9,
   "id": "e8bc86eb",
   "metadata": {},
   "outputs": [],
   "source": [
    "class curso:\n",
    "    codigo=\"\"\n",
    "    nombre=\"\"\n",
    "    horas=0\n",
    "    creditos=0\n",
    "    \n",
    "    def __init__(self,codigo,nombre,horas,creditos):\n",
    "        self.codigo=codigo\n",
    "        self.nombre=nombre\n",
    "        self.horas=horas\n",
    "        self.creditos=creditos\n",
    "        \n",
    "    def mostrar_datos_curso(self):\n",
    "        print(f\"Codigo:{self.codigo}\")\n",
    "        print(f\"Nombre:{self.nombre}\")\n",
    "        print(f\"Hora:{self.horas}\")\n",
    "        print(f\"Creditos:{self.creditos}\")"
   ]
  },
  {
   "cell_type": "code",
   "execution_count": 10,
   "id": "a8faf629",
   "metadata": {},
   "outputs": [],
   "source": [
    "curso1=curso(\"C0501\",\"LP3\",6,3)"
   ]
  },
  {
   "cell_type": "code",
   "execution_count": 11,
   "id": "19aef85d",
   "metadata": {},
   "outputs": [
    {
     "name": "stdout",
     "output_type": "stream",
     "text": [
      "Codigo:C0501\n",
      "Nombre:LP3\n",
      "Hora:6\n",
      "Creditos:3\n"
     ]
    }
   ],
   "source": [
    "curso1.mostrar_datos_curso()"
   ]
  }
 ],
 "metadata": {
  "kernelspec": {
   "display_name": "Python 3 (ipykernel)",
   "language": "python",
   "name": "python3"
  },
  "language_info": {
   "codemirror_mode": {
    "name": "ipython",
    "version": 3
   },
   "file_extension": ".py",
   "mimetype": "text/x-python",
   "name": "python",
   "nbconvert_exporter": "python",
   "pygments_lexer": "ipython3",
   "version": "3.9.12"
  }
 },
 "nbformat": 4,
 "nbformat_minor": 5
}
