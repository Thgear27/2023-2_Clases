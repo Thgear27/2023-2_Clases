{
 "cells": [
  {
   "cell_type": "markdown",
   "id": "8d29c514",
   "metadata": {},
   "source": [
    "# Semana 5\n",
    "Tema\n",
    "- Colecciones de datos\n",
    "- Estructuras decisivas y Estructuras repetitivas\n",
    "- Clase y objetos\n",
    "- Funciones"
   ]
  },
  {
   "cell_type": "code",
   "execution_count": 1,
   "id": "c8b7e0f2",
   "metadata": {},
   "outputs": [],
   "source": [
    "tupla_aula = (\"Vegas\", \"Navarro\", \"Tenorio\", \"Luque\")"
   ]
  },
  {
   "cell_type": "code",
   "execution_count": 3,
   "id": "65c33050",
   "metadata": {},
   "outputs": [
    {
     "data": {
      "text/plain": [
       "'Navarro'"
      ]
     },
     "execution_count": 3,
     "metadata": {},
     "output_type": "execute_result"
    }
   ],
   "source": [
    "tupla_aula[1]"
   ]
  },
  {
   "cell_type": "code",
   "execution_count": 4,
   "id": "52924f27",
   "metadata": {},
   "outputs": [
    {
     "data": {
      "text/plain": [
       "{'Luque', 'Navarro', 'Tenorio', 'Vegas'}"
      ]
     },
     "execution_count": 4,
     "metadata": {},
     "output_type": "execute_result"
    }
   ],
   "source": [
    "conjunto_aula = {\"Vegas\", \"Navarro\", \"Tenorio\", \"Luque\"}\n",
    "conjunto_aula"
   ]
  },
  {
   "cell_type": "code",
   "execution_count": 5,
   "id": "0f85739e",
   "metadata": {},
   "outputs": [
    {
     "ename": "NameError",
     "evalue": "name 'conjunt_aula' is not defined",
     "output_type": "error",
     "traceback": [
      "\u001b[1;31m---------------------------------------------------------------------------\u001b[0m",
      "\u001b[1;31mNameError\u001b[0m                                 Traceback (most recent call last)",
      "Input \u001b[1;32mIn [5]\u001b[0m, in \u001b[0;36m<cell line: 1>\u001b[1;34m()\u001b[0m\n\u001b[1;32m----> 1\u001b[0m \u001b[43mconjunt_aula\u001b[49m[\u001b[38;5;241m1\u001b[39m]\n",
      "\u001b[1;31mNameError\u001b[0m: name 'conjunt_aula' is not defined"
     ]
    }
   ],
   "source": [
    "conjunt_aula[1]"
   ]
  },
  {
   "cell_type": "code",
   "execution_count": 6,
   "id": "bac165a2",
   "metadata": {},
   "outputs": [],
   "source": [
    "diccionario_aula = {2:'Muñoz', '1':'Luque', 'dos':'Pascasio'}"
   ]
  },
  {
   "cell_type": "code",
   "execution_count": 8,
   "id": "c7e0132b",
   "metadata": {},
   "outputs": [
    {
     "data": {
      "text/plain": [
       "'Pascasio'"
      ]
     },
     "execution_count": 8,
     "metadata": {},
     "output_type": "execute_result"
    }
   ],
   "source": [
    "diccionario_aula['dos']"
   ]
  },
  {
   "cell_type": "code",
   "execution_count": 13,
   "id": "1e1211f4",
   "metadata": {},
   "outputs": [
    {
     "data": {
      "text/plain": [
       "'Tenorio'"
      ]
     },
     "execution_count": 13,
     "metadata": {},
     "output_type": "execute_result"
    }
   ],
   "source": [
    "diccionario_aula[2] # Los diccionarios no estás ordenados, dependen del indice dado al momentos de su inicialización :)"
   ]
  },
  {
   "cell_type": "code",
   "execution_count": 15,
   "id": "3105bf39",
   "metadata": {},
   "outputs": [],
   "source": [
    "diccionario_aula[2] = \"Tenorio\""
   ]
  },
  {
   "cell_type": "code",
   "execution_count": 16,
   "id": "a3ad47ad",
   "metadata": {},
   "outputs": [
    {
     "data": {
      "text/plain": [
       "{2: 'Tenorio', '1': 'Luque', 'dos': 'Pascasio'}"
      ]
     },
     "execution_count": 16,
     "metadata": {},
     "output_type": "execute_result"
    }
   ],
   "source": [
    "diccionario_aula"
   ]
  },
  {
   "cell_type": "code",
   "execution_count": 17,
   "id": "aa033718",
   "metadata": {},
   "outputs": [
    {
     "data": {
      "text/plain": [
       "'Pascasio'"
      ]
     },
     "execution_count": 17,
     "metadata": {},
     "output_type": "execute_result"
    }
   ],
   "source": [
    "diccionario_aula.pop('dos')"
   ]
  },
  {
   "cell_type": "code",
   "execution_count": 19,
   "id": "efd7f2f7",
   "metadata": {},
   "outputs": [
    {
     "data": {
      "text/plain": [
       "{2: 'Tenorio', '1': 'Luque'}"
      ]
     },
     "execution_count": 19,
     "metadata": {},
     "output_type": "execute_result"
    }
   ],
   "source": [
    "diccionario_aula"
   ]
  },
  {
   "cell_type": "code",
   "execution_count": 20,
   "id": "87ffc02c",
   "metadata": {},
   "outputs": [
    {
     "name": "stdout",
     "output_type": "stream",
     "text": [
      "2\n",
      "1\n"
     ]
    }
   ],
   "source": [
    "for indice in diccionario_aula:\n",
    "    print(indice)"
   ]
  },
  {
   "cell_type": "code",
   "execution_count": 21,
   "id": "799aa44f",
   "metadata": {},
   "outputs": [
    {
     "name": "stdout",
     "output_type": "stream",
     "text": [
      "Tenorio\n",
      "Luque\n"
     ]
    }
   ],
   "source": [
    "for indice in diccionario_aula:\n",
    "    print(diccionario_aula[indice])"
   ]
  },
  {
   "cell_type": "code",
   "execution_count": 32,
   "id": "4e71619f",
   "metadata": {},
   "outputs": [
    {
     "name": "stdout",
     "output_type": "stream",
     "text": [
      "vegas\n",
      "SI ESTÁ EN LA LISTA\n"
     ]
    }
   ],
   "source": [
    "list = [\n",
    "\"FIGUEROA\",\n",
    "\"GARCIA\",\n",
    "\"GUTIERREZ\",\n",
    "\"ISLA\",\n",
    "\"LOPEZ\",\n",
    "\"LUQUE\",\n",
    "\"MAMANI\",\n",
    "\"MARCANI\",\n",
    "\"MONDRAGON,\"\n",
    "\"MORENO\",\n",
    "\"MUÑOZ\",\n",
    "\"NAVARRO\",\n",
    "\"OTAZU\",\n",
    "\"PASCACIO\", \n",
    "\"RAMON\",\n",
    "\"TENORIO\",\n",
    "\"VEGAS\"\n",
    "]\n",
    "\n",
    "apellido_ingresado = input()\n",
    "apellido_ingresado = apellido_ingresado.upper()\n",
    "esta = \"\"\n",
    "for item in list:\n",
    "    if apellido_ingresado == item:\n",
    "        esta = \"SI ESTÁ EN LA LISTA\"\n",
    "    else:\n",
    "        esta = \"NO ESTÁ EN LA LISTA\"\n",
    "print(esta)"
   ]
  },
  {
   "cell_type": "code",
   "execution_count": 24,
   "id": "1eb2165b",
   "metadata": {},
   "outputs": [
    {
     "data": {
      "text/plain": [
       "['FIGUEROA',\n",
       " 'GARCIA',\n",
       " 'GUTIERREZ',\n",
       " 'ISLA',\n",
       " 'LOPEZ',\n",
       " 'LUQUE',\n",
       " 'MAMANI',\n",
       " 'MARCANI',\n",
       " 'MONDRAGON,MORENO',\n",
       " 'MUÑOZ',\n",
       " 'NAVARRO',\n",
       " 'OTAZU',\n",
       " 'PASCACIO',\n",
       " 'RAMON',\n",
       " 'TENORIO',\n",
       " 'VEGAS']"
      ]
     },
     "execution_count": 24,
     "metadata": {},
     "output_type": "execute_result"
    }
   ],
   "source": [
    "list"
   ]
  },
  {
   "cell_type": "code",
   "execution_count": null,
   "id": "c7b56e49",
   "metadata": {},
   "outputs": [],
   "source": []
  }
 ],
 "metadata": {
  "kernelspec": {
   "display_name": "Python 3 (ipykernel)",
   "language": "python",
   "name": "python3"
  },
  "language_info": {
   "codemirror_mode": {
    "name": "ipython",
    "version": 3
   },
   "file_extension": ".py",
   "mimetype": "text/x-python",
   "name": "python",
   "nbconvert_exporter": "python",
   "pygments_lexer": "ipython3",
   "version": "3.9.12"
  }
 },
 "nbformat": 4,
 "nbformat_minor": 5
}
