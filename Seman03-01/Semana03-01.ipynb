{
 "cells": [
  {
   "cell_type": "markdown",
   "id": "24e3f640",
   "metadata": {},
   "source": [
    "# Semana 03\n",
    "Fernando Isai Vegas Villar"
   ]
  },
  {
   "cell_type": "markdown",
   "id": "20793ff9",
   "metadata": {},
   "source": [
    "Temas:\n",
    "- Números\n",
    "- Variables\n",
    "- Manejo de cadenas\n",
    "- Ingreso por el Teclado\n",
    "- Operadores"
   ]
  },
  {
   "cell_type": "markdown",
   "id": "e4dfd16f",
   "metadata": {},
   "source": [
    "1. Números"
   ]
  },
  {
   "cell_type": "code",
   "execution_count": 3,
   "id": "5ad6c7a8",
   "metadata": {},
   "outputs": [
    {
     "data": {
      "text/plain": [
       "12"
      ]
     },
     "execution_count": 3,
     "metadata": {},
     "output_type": "execute_result"
    }
   ],
   "source": [
    "8 + 4"
   ]
  },
  {
   "cell_type": "code",
   "execution_count": 4,
   "id": "d7a76f8e",
   "metadata": {},
   "outputs": [
    {
     "data": {
      "text/plain": [
       "1.1111111111111112"
      ]
     },
     "execution_count": 4,
     "metadata": {},
     "output_type": "execute_result"
    }
   ],
   "source": [
    "10/9"
   ]
  }
 ],
 "metadata": {
  "kernelspec": {
   "display_name": "Python 3 (ipykernel)",
   "language": "python",
   "name": "python3"
  },
  "language_info": {
   "codemirror_mode": {
    "name": "ipython",
    "version": 3
   },
   "file_extension": ".py",
   "mimetype": "text/x-python",
   "name": "python",
   "nbconvert_exporter": "python",
   "pygments_lexer": "ipython3",
   "version": "3.9.12"
  }
 },
 "nbformat": 4,
 "nbformat_minor": 5
}
