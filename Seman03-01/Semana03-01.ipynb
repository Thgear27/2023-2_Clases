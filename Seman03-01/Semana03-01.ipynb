{
 "cells": [
  {
   "cell_type": "markdown",
   "id": "24e3f640",
   "metadata": {},
   "source": [
    "# Semana 03\n",
    "Fernando Isai Vegas Villar"
   ]
  },
  {
   "cell_type": "markdown",
   "id": "20793ff9",
   "metadata": {},
   "source": [
    "Temas:\n",
    "- Números\n",
    "- Variables\n",
    "- Manejo de cadenas\n",
    "- Ingreso por el Teclado\n",
    "- Operadores"
   ]
  },
  {
   "cell_type": "markdown",
   "id": "e4dfd16f",
   "metadata": {},
   "source": [
    "1. Números"
   ]
  },
  {
   "cell_type": "code",
   "execution_count": 3,
   "id": "5ad6c7a8",
   "metadata": {},
   "outputs": [
    {
     "data": {
      "text/plain": [
       "12"
      ]
     },
     "execution_count": 3,
     "metadata": {},
     "output_type": "execute_result"
    }
   ],
   "source": [
    "8 + 4"
   ]
  },
  {
   "cell_type": "code",
   "execution_count": 4,
   "id": "d7a76f8e",
   "metadata": {},
   "outputs": [
    {
     "data": {
      "text/plain": [
       "1.1111111111111112"
      ]
     },
     "execution_count": 4,
     "metadata": {},
     "output_type": "execute_result"
    }
   ],
   "source": [
    "10/9"
   ]
  },
  {
   "cell_type": "markdown",
   "id": "5bf37491",
   "metadata": {},
   "source": [
    "# Variables"
   ]
  },
  {
   "cell_type": "code",
   "execution_count": 2,
   "id": "bad21455",
   "metadata": {},
   "outputs": [],
   "source": [
    "edad = 41"
   ]
  },
  {
   "cell_type": "code",
   "execution_count": 3,
   "id": "028f348f",
   "metadata": {},
   "outputs": [
    {
     "data": {
      "text/plain": [
       "41"
      ]
     },
     "execution_count": 3,
     "metadata": {},
     "output_type": "execute_result"
    }
   ],
   "source": [
    "edad"
   ]
  },
  {
   "cell_type": "code",
   "execution_count": 4,
   "id": "78f84b10",
   "metadata": {},
   "outputs": [],
   "source": [
    "nombre=\"Fernando\""
   ]
  },
  {
   "cell_type": "code",
   "execution_count": 5,
   "id": "53810f7b",
   "metadata": {},
   "outputs": [
    {
     "data": {
      "text/plain": [
       "'Fernando'"
      ]
     },
     "execution_count": 5,
     "metadata": {},
     "output_type": "execute_result"
    }
   ],
   "source": [
    "nombre"
   ]
  },
  {
   "cell_type": "code",
   "execution_count": 6,
   "id": "f2ce97a5",
   "metadata": {},
   "outputs": [],
   "source": [
    "apellido=\"Vegas\""
   ]
  },
  {
   "cell_type": "code",
   "execution_count": 7,
   "id": "d3c7af78",
   "metadata": {},
   "outputs": [
    {
     "data": {
      "text/plain": [
       "'Vegas'"
      ]
     },
     "execution_count": 7,
     "metadata": {},
     "output_type": "execute_result"
    }
   ],
   "source": [
    "apellido"
   ]
  },
  {
   "cell_type": "code",
   "execution_count": 8,
   "id": "db630c21",
   "metadata": {},
   "outputs": [],
   "source": [
    "nombrecompleto=nombre+apellido"
   ]
  },
  {
   "cell_type": "code",
   "execution_count": 9,
   "id": "f41d96c7",
   "metadata": {},
   "outputs": [
    {
     "data": {
      "text/plain": [
       "'FernandoVegas'"
      ]
     },
     "execution_count": 9,
     "metadata": {},
     "output_type": "execute_result"
    }
   ],
   "source": [
    "nombrecompleto"
   ]
  },
  {
   "cell_type": "code",
   "execution_count": 10,
   "id": "c0df8682",
   "metadata": {},
   "outputs": [
    {
     "data": {
      "text/plain": [
       "str"
      ]
     },
     "execution_count": 10,
     "metadata": {},
     "output_type": "execute_result"
    }
   ],
   "source": [
    "type(nombrecompleto)"
   ]
  },
  {
   "cell_type": "code",
   "execution_count": 11,
   "id": "50796956",
   "metadata": {},
   "outputs": [
    {
     "data": {
      "text/plain": [
       "int"
      ]
     },
     "execution_count": 11,
     "metadata": {},
     "output_type": "execute_result"
    }
   ],
   "source": [
    "type(edad)"
   ]
  },
  {
   "cell_type": "markdown",
   "id": "a1807dd7",
   "metadata": {},
   "source": [
    "# Manejo de cadenas"
   ]
  },
  {
   "cell_type": "code",
   "execution_count": 12,
   "id": "8948291a",
   "metadata": {},
   "outputs": [],
   "source": [
    "cadena = \"Universidad Nacional Tecnológica de Lima Sur\""
   ]
  },
  {
   "cell_type": "code",
   "execution_count": 13,
   "id": "63a12d43",
   "metadata": {},
   "outputs": [
    {
     "data": {
      "text/plain": [
       "'n'"
      ]
     },
     "execution_count": 13,
     "metadata": {},
     "output_type": "execute_result"
    }
   ],
   "source": [
    "cadena[1]"
   ]
  },
  {
   "cell_type": "code",
   "execution_count": 14,
   "id": "2f8f6d9e",
   "metadata": {},
   "outputs": [],
   "source": [
    "arr = cadena.split()"
   ]
  },
  {
   "cell_type": "code",
   "execution_count": 15,
   "id": "7e957d28",
   "metadata": {},
   "outputs": [
    {
     "data": {
      "text/plain": [
       "['Universidad', 'Nacional', 'Tecnológica', 'de', 'Lima', 'Sur']"
      ]
     },
     "execution_count": 15,
     "metadata": {},
     "output_type": "execute_result"
    }
   ],
   "source": [
    "arr"
   ]
  },
  {
   "cell_type": "code",
   "execution_count": 16,
   "id": "0d1e7ac0",
   "metadata": {},
   "outputs": [
    {
     "data": {
      "text/plain": [
       "44"
      ]
     },
     "execution_count": 16,
     "metadata": {},
     "output_type": "execute_result"
    }
   ],
   "source": [
    "len(cadena)"
   ]
  },
  {
   "cell_type": "code",
   "execution_count": 18,
   "id": "a56a12e6",
   "metadata": {},
   "outputs": [
    {
     "name": "stdout",
     "output_type": "stream",
     "text": [
      "Hola Fernando ya se que tienes 10 cartones\n"
     ]
    }
   ],
   "source": [
    "nombre = \"Fernando\"\n",
    "edad = 10\n",
    "print(\"Hola {} ya se que tienes {} cartones\".format(nombre, edad))"
   ]
  },
  {
   "cell_type": "code",
   "execution_count": 19,
   "id": "471e84ea",
   "metadata": {},
   "outputs": [
    {
     "name": "stdout",
     "output_type": "stream",
     "text": [
      "10/3 es = 3.3333333333333335\n",
      "10/3 es = 3.333\n"
     ]
    }
   ],
   "source": [
    "resultado = 10/3\n",
    "print(f\"10/3 es = {resultado}\")\n",
    "print(f\"10/3 es = {resultado:1.3f}\")"
   ]
  },
  {
   "cell_type": "markdown",
   "id": "4588f034",
   "metadata": {},
   "source": [
    "# Ingreso por teclado"
   ]
  },
  {
   "cell_type": "code",
   "execution_count": 21,
   "id": "726cde7d",
   "metadata": {},
   "outputs": [
    {
     "name": "stdout",
     "output_type": "stream",
     "text": [
      "número: 1\n",
      "123\n",
      "número: 2\n",
      "123\n",
      "El resultado es 246\n"
     ]
    }
   ],
   "source": [
    "print(\"número: 1\")\n",
    "numero1 = input()\n",
    "print(\"número: 2\")\n",
    "numero2 = input()\n",
    "numero3 = int(numero1) + int(numero2)\n",
    "print(f\"El resultado es {numero3}\")\n"
   ]
  },
  {
   "cell_type": "code",
   "execution_count": 22,
   "id": "c1d3ed23",
   "metadata": {},
   "outputs": [
    {
     "name": "stdout",
     "output_type": "stream",
     "text": [
      "¿Cual es tu nombre?\n",
      "Fernando\n",
      "Hola Fernando\n"
     ]
    }
   ],
   "source": [
    "#Funcion input()\n",
    "print(\"¿Cual es tu nombre?\")\n",
    "nombre= input()\n",
    "print(\"Hola\",nombre)"
   ]
  },
  {
   "cell_type": "markdown",
   "id": "e1fce3fb",
   "metadata": {},
   "source": [
    "# Operadores"
   ]
  },
  {
   "cell_type": "code",
   "execution_count": 23,
   "id": "74f4657a",
   "metadata": {},
   "outputs": [
    {
     "name": "stdout",
     "output_type": "stream",
     "text": [
      "Suma: 17\n",
      "Resta: 3\n",
      "Multiplicacion: 70\n",
      "Division: 1.4285714285714286\n",
      "Residuo: 3\n",
      "Cociente: 1\n"
     ]
    }
   ],
   "source": [
    "num1=10\n",
    "num2=7\n",
    "suma= num1+num2\n",
    "resta=num1-num2\n",
    "multiplicacion=num1*num2\n",
    "division=num1/num2\n",
    "residuo=num1%num2\n",
    "cociente=num1//num2\n",
    "print(\"Suma:\",suma)\n",
    "print(\"Resta:\",resta)\n",
    "print(\"Multiplicacion:\",multiplicacion)\n",
    "print(\"Division:\",division)\n",
    "print(\"Residuo:\",residuo)\n",
    "print(\"Cociente:\",cociente)"
   ]
  },
  {
   "cell_type": "code",
   "execution_count": 24,
   "id": "62c7e76c",
   "metadata": {},
   "outputs": [
    {
     "data": {
      "text/plain": [
       "8"
      ]
     },
     "execution_count": 24,
     "metadata": {},
     "output_type": "execute_result"
    }
   ],
   "source": [
    "numero=5\n",
    "numero+=3\n",
    "numero"
   ]
  },
  {
   "cell_type": "code",
   "execution_count": 25,
   "id": "5cdf3234",
   "metadata": {},
   "outputs": [
    {
     "data": {
      "text/plain": [
       "512"
      ]
     },
     "execution_count": 25,
     "metadata": {},
     "output_type": "execute_result"
    }
   ],
   "source": [
    "numero**=3\n",
    "numero"
   ]
  },
  {
   "cell_type": "code",
   "execution_count": 26,
   "id": "3ad20ec8",
   "metadata": {},
   "outputs": [
    {
     "data": {
      "text/plain": [
       "False"
      ]
     },
     "execution_count": 26,
     "metadata": {},
     "output_type": "execute_result"
    }
   ],
   "source": [
    "num1==num2"
   ]
  },
  {
   "cell_type": "code",
   "execution_count": 27,
   "id": "abe1ea7c",
   "metadata": {},
   "outputs": [
    {
     "data": {
      "text/plain": [
       "True"
      ]
     },
     "execution_count": 27,
     "metadata": {},
     "output_type": "execute_result"
    }
   ],
   "source": [
    "nombre1=\"Juan\"\n",
    "nombre2=\"Juan\"\n",
    "nombre1==nombre2"
   ]
  },
  {
   "cell_type": "code",
   "execution_count": 28,
   "id": "846605fa",
   "metadata": {},
   "outputs": [],
   "source": [
    "#Operador Logicos\n",
    "num3=7\n",
    "num4=11"
   ]
  },
  {
   "cell_type": "code",
   "execution_count": 29,
   "id": "3bed188a",
   "metadata": {},
   "outputs": [
    {
     "data": {
      "text/plain": [
       "False"
      ]
     },
     "execution_count": 29,
     "metadata": {},
     "output_type": "execute_result"
    }
   ],
   "source": [
    "num1<num2"
   ]
  },
  {
   "cell_type": "code",
   "execution_count": 30,
   "id": "61c62cb8",
   "metadata": {},
   "outputs": [
    {
     "data": {
      "text/plain": [
       "False"
      ]
     },
     "execution_count": 30,
     "metadata": {},
     "output_type": "execute_result"
    }
   ],
   "source": [
    "num1<num2 and num3<num4"
   ]
  },
  {
   "cell_type": "code",
   "execution_count": 31,
   "id": "58c60277",
   "metadata": {},
   "outputs": [
    {
     "data": {
      "text/plain": [
       "False"
      ]
     },
     "execution_count": 31,
     "metadata": {},
     "output_type": "execute_result"
    }
   ],
   "source": [
    "(num1<num2 and num3<num4) or (num3>num4)"
   ]
  },
  {
   "cell_type": "code",
   "execution_count": 32,
   "id": "c83d8f91",
   "metadata": {},
   "outputs": [],
   "source": [
    "aula=[\"Juan\",\"Daniel\",\"Alumno\"]\n",
    "alumno1=\"Diego\"\n",
    "alumno2=\"Daniel\""
   ]
  },
  {
   "cell_type": "code",
   "execution_count": 33,
   "id": "9dc5b6bb",
   "metadata": {},
   "outputs": [
    {
     "data": {
      "text/plain": [
       "False"
      ]
     },
     "execution_count": 33,
     "metadata": {},
     "output_type": "execute_result"
    }
   ],
   "source": [
    "alumno1 in aula"
   ]
  },
  {
   "cell_type": "code",
   "execution_count": 34,
   "id": "96f88321",
   "metadata": {},
   "outputs": [
    {
     "data": {
      "text/plain": [
       "True"
      ]
     },
     "execution_count": 34,
     "metadata": {},
     "output_type": "execute_result"
    }
   ],
   "source": [
    "alumno2 in aula"
   ]
  },
  {
   "cell_type": "code",
   "execution_count": 35,
   "id": "393ef978",
   "metadata": {},
   "outputs": [],
   "source": [
    "aula1=[\"Juan\",\"Daniel\",\"Ruben\"]\n",
    "aula2=[\"Juan\",\"Daniel\",\"Ruben\"]\n",
    "aula3=aula1"
   ]
  },
  {
   "cell_type": "code",
   "execution_count": 36,
   "id": "8bb635a3",
   "metadata": {},
   "outputs": [
    {
     "data": {
      "text/plain": [
       "True"
      ]
     },
     "execution_count": 36,
     "metadata": {},
     "output_type": "execute_result"
    }
   ],
   "source": [
    "aula3 is aula1"
   ]
  },
  {
   "cell_type": "code",
   "execution_count": 37,
   "id": "5613a31d",
   "metadata": {},
   "outputs": [],
   "source": [
    "aula1.append(\"Fernando\")"
   ]
  },
  {
   "cell_type": "code",
   "execution_count": 38,
   "id": "4090723b",
   "metadata": {},
   "outputs": [
    {
     "data": {
      "text/plain": [
       "['Juan', 'Daniel', 'Ruben', 'Fernando']"
      ]
     },
     "execution_count": 38,
     "metadata": {},
     "output_type": "execute_result"
    }
   ],
   "source": [
    "aula1"
   ]
  },
  {
   "cell_type": "code",
   "execution_count": 39,
   "id": "831ed1bc",
   "metadata": {},
   "outputs": [
    {
     "data": {
      "text/plain": [
       "True"
      ]
     },
     "execution_count": 39,
     "metadata": {},
     "output_type": "execute_result"
    }
   ],
   "source": [
    "aula1 is aula3"
   ]
  },
  {
   "cell_type": "code",
   "execution_count": 40,
   "id": "6f798a7f",
   "metadata": {},
   "outputs": [
    {
     "data": {
      "text/plain": [
       "False"
      ]
     },
     "execution_count": 40,
     "metadata": {},
     "output_type": "execute_result"
    }
   ],
   "source": [
    "aula1 is aula2"
   ]
  }
 ],
 "metadata": {
  "kernelspec": {
   "display_name": "Python 3 (ipykernel)",
   "language": "python",
   "name": "python3"
  },
  "language_info": {
   "codemirror_mode": {
    "name": "ipython",
    "version": 3
   },
   "file_extension": ".py",
   "mimetype": "text/x-python",
   "name": "python",
   "nbconvert_exporter": "python",
   "pygments_lexer": "ipython3",
   "version": "3.9.12"
  }
 },
 "nbformat": 4,
 "nbformat_minor": 5
}
