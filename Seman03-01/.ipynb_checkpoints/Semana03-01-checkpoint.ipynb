{
 "cells": [
  {
   "cell_type": "markdown",
   "id": "24e3f640",
   "metadata": {},
   "source": [
    "# Semana 03\n",
    "Fernando Isai Vegas Villar"
   ]
  },
  {
   "cell_type": "markdown",
   "id": "20793ff9",
   "metadata": {},
   "source": [
    "Temas:\n",
    "- Números\n",
    "- Variables\n",
    "- Manejo de cadenas\n",
    "- Ingreso por el Teclado\n",
    "- Operadores"
   ]
  },
  {
   "cell_type": "markdown",
   "id": "e4dfd16f",
   "metadata": {},
   "source": [
    "1. Números"
   ]
  },
  {
   "cell_type": "code",
   "execution_count": 3,
   "id": "5ad6c7a8",
   "metadata": {},
   "outputs": [
    {
     "data": {
      "text/plain": [
       "12"
      ]
     },
     "execution_count": 3,
     "metadata": {},
     "output_type": "execute_result"
    }
   ],
   "source": [
    "8 + 4"
   ]
  },
  {
   "cell_type": "code",
   "execution_count": 4,
   "id": "d7a76f8e",
   "metadata": {},
   "outputs": [
    {
     "data": {
      "text/plain": [
       "1.1111111111111112"
      ]
     },
     "execution_count": 4,
     "metadata": {},
     "output_type": "execute_result"
    }
   ],
   "source": [
    "10/9"
   ]
  },
  {
   "cell_type": "markdown",
   "id": "02d148a8",
   "metadata": {},
   "source": [
    "# Variables"
   ]
  },
  {
   "cell_type": "code",
   "execution_count": 2,
   "id": "f049bd23",
   "metadata": {},
   "outputs": [],
   "source": [
    "edad = 41"
   ]
  },
  {
   "cell_type": "code",
   "execution_count": 3,
   "id": "05e582ae",
   "metadata": {},
   "outputs": [
    {
     "data": {
      "text/plain": [
       "41"
      ]
     },
     "execution_count": 3,
     "metadata": {},
     "output_type": "execute_result"
    }
   ],
   "source": [
    "edad"
   ]
  },
  {
   "cell_type": "code",
   "execution_count": 4,
   "id": "1dae45dd",
   "metadata": {},
   "outputs": [],
   "source": [
    "nombre=\"Fernando\""
   ]
  },
  {
   "cell_type": "code",
   "execution_count": 5,
   "id": "ce220128",
   "metadata": {},
   "outputs": [
    {
     "data": {
      "text/plain": [
       "'Fernando'"
      ]
     },
     "execution_count": 5,
     "metadata": {},
     "output_type": "execute_result"
    }
   ],
   "source": [
    "nombre"
   ]
  },
  {
   "cell_type": "code",
   "execution_count": 6,
   "id": "817e711e",
   "metadata": {},
   "outputs": [],
   "source": [
    "apellido=\"Vegas\""
   ]
  },
  {
   "cell_type": "code",
   "execution_count": 7,
   "id": "d63d7f2e",
   "metadata": {},
   "outputs": [
    {
     "data": {
      "text/plain": [
       "'Vegas'"
      ]
     },
     "execution_count": 7,
     "metadata": {},
     "output_type": "execute_result"
    }
   ],
   "source": [
    "apellido"
   ]
  },
  {
   "cell_type": "code",
   "execution_count": 8,
   "id": "773a2b27",
   "metadata": {},
   "outputs": [],
   "source": [
    "nombrecompleto=nombre+apellido"
   ]
  },
  {
   "cell_type": "code",
   "execution_count": 9,
   "id": "d40caf6c",
   "metadata": {},
   "outputs": [
    {
     "data": {
      "text/plain": [
       "'FernandoVegas'"
      ]
     },
     "execution_count": 9,
     "metadata": {},
     "output_type": "execute_result"
    }
   ],
   "source": [
    "nombrecompleto"
   ]
  },
  {
   "cell_type": "code",
   "execution_count": 10,
   "id": "1c53453f",
   "metadata": {},
   "outputs": [
    {
     "data": {
      "text/plain": [
       "str"
      ]
     },
     "execution_count": 10,
     "metadata": {},
     "output_type": "execute_result"
    }
   ],
   "source": [
    "type(nombrecompleto)"
   ]
  },
  {
   "cell_type": "code",
   "execution_count": 11,
   "id": "c55df452",
   "metadata": {},
   "outputs": [
    {
     "data": {
      "text/plain": [
       "int"
      ]
     },
     "execution_count": 11,
     "metadata": {},
     "output_type": "execute_result"
    }
   ],
   "source": [
    "type(edad)"
   ]
  },
  {
   "cell_type": "markdown",
   "id": "83be021e",
   "metadata": {},
   "source": [
    "# Manejo de cadenas"
   ]
  },
  {
   "cell_type": "code",
   "execution_count": 12,
   "id": "c3ffc48f",
   "metadata": {},
   "outputs": [],
   "source": [
    "cadena = \"Universidad Nacional Tecnológica de Lima Sur\""
   ]
  },
  {
   "cell_type": "code",
   "execution_count": 13,
   "id": "2a9f6bac",
   "metadata": {},
   "outputs": [
    {
     "data": {
      "text/plain": [
       "'n'"
      ]
     },
     "execution_count": 13,
     "metadata": {},
     "output_type": "execute_result"
    }
   ],
   "source": [
    "cadena[1]"
   ]
  },
  {
   "cell_type": "code",
   "execution_count": 14,
   "id": "203e6574",
   "metadata": {},
   "outputs": [],
   "source": [
    "arr = cadena.split()"
   ]
  },
  {
   "cell_type": "code",
   "execution_count": 15,
   "id": "b8187ec5",
   "metadata": {},
   "outputs": [
    {
     "data": {
      "text/plain": [
       "['Universidad', 'Nacional', 'Tecnológica', 'de', 'Lima', 'Sur']"
      ]
     },
     "execution_count": 15,
     "metadata": {},
     "output_type": "execute_result"
    }
   ],
   "source": [
    "arr"
   ]
  },
  {
   "cell_type": "code",
   "execution_count": 16,
   "id": "c5cabd52",
   "metadata": {},
   "outputs": [
    {
     "data": {
      "text/plain": [
       "44"
      ]
     },
     "execution_count": 16,
     "metadata": {},
     "output_type": "execute_result"
    }
   ],
   "source": [
    "len(cadena)"
   ]
  },
  {
   "cell_type": "code",
   "execution_count": 18,
   "id": "72b11982",
   "metadata": {},
   "outputs": [
    {
     "name": "stdout",
     "output_type": "stream",
     "text": [
      "Hola Fernando ya se que tienes 10 cartones\n"
     ]
    }
   ],
   "source": [
    "nombre = \"Fernando\"\n",
    "edad = 10\n",
    "print(\"Hola {} ya se que tienes {} cartones\".format(nombre, edad))"
   ]
  },
  {
   "cell_type": "code",
   "execution_count": 19,
   "id": "ede9b127",
   "metadata": {},
   "outputs": [
    {
     "name": "stdout",
     "output_type": "stream",
     "text": [
      "10/3 es = 3.3333333333333335\n",
      "10/3 es = 3.333\n"
     ]
    }
   ],
   "source": [
    "resultado = 10/3\n",
    "print(f\"10/3 es = {resultado}\")\n",
    "print(f\"10/3 es = {resultado:1.3f}\")"
   ]
  }
 ],
 "metadata": {
  "kernelspec": {
   "display_name": "Python 3 (ipykernel)",
   "language": "python",
   "name": "python3"
  },
  "language_info": {
   "codemirror_mode": {
    "name": "ipython",
    "version": 3
   },
   "file_extension": ".py",
   "mimetype": "text/x-python",
   "name": "python",
   "nbconvert_exporter": "python",
   "pygments_lexer": "ipython3",
   "version": "3.9.12"
  }
 },
 "nbformat": 4,
 "nbformat_minor": 5
}
